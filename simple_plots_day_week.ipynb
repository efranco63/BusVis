{
 "metadata": {
  "name": "",
  "signature": "sha256:6119fea9df94c65664de3f200c1b23071011dae8d8f4490610deb805c463bd2f"
 },
 "nbformat": 3,
 "nbformat_minor": 0,
 "worksheets": [
  {
   "cells": [
    {
     "cell_type": "code",
     "collapsed": false,
     "input": [
      "x = {}\n",
      "x['t'] = {}\n",
      "x['u'] = {}\n",
      "x['2014-10-31'] = {}\n",
      "x['2014-10-28'] = {}\n",
      "x['2014-10-25'] = {}\n",
      "x['2014-10-05'] = {}\n",
      "x['2014-10-12'] = {}\n",
      "x['t']['r'] = 1\n",
      "x['t']['s'] = 2\n",
      "x['t']['t'] = 3\n",
      "x['t']['u'] = 4\n",
      "x['u']['r'] = 1\n",
      "x['u']['s'] = 2\n",
      "x['u']['t'] = 3\n",
      "\n",
      "for key in sorted(x):\n",
      "    print key, str(len(x[key]))"
     ],
     "language": "python",
     "metadata": {},
     "outputs": [
      {
       "output_type": "stream",
       "stream": "stdout",
       "text": [
        "2014-10-05 0\n",
        "2014-10-12 0\n",
        "2014-10-25 0\n",
        "2014-10-28 0\n",
        "2014-10-31 0\n",
        "t 4\n",
        "u 3\n"
       ]
      }
     ],
     "prompt_number": 2
    },
    {
     "cell_type": "code",
     "collapsed": false,
     "input": [
      "filename = 'MTA-Bus-Time_.2014-10-31_TEST.txt'"
     ],
     "language": "python",
     "metadata": {},
     "outputs": [],
     "prompt_number": 1
    },
    {
     "cell_type": "code",
     "collapsed": false,
     "input": [
      "text_file = open(filename, \"r\")\n",
      "# lines = text_file.read().split(' ')\n",
      "lines = text_file.readlines()\n",
      "print len(lines)\n",
      "text_file.close()"
     ],
     "language": "python",
     "metadata": {},
     "outputs": [
      {
       "output_type": "stream",
       "stream": "stdout",
       "text": [
        "4587\n"
       ]
      }
     ],
     "prompt_number": 2
    },
    {
     "cell_type": "code",
     "collapsed": false,
     "input": [
      "from datetime import datetime\n",
      "# print lines[0].split('\\t')\n",
      "# print lines[0]\n",
      "x = lines[1].split('\\t')\n",
      "print x\n",
      "print 'Bus ID: ' + str(x[3])\n",
      "dt = x[2].split(' ')[0]\n",
      "dtt = x[2].split(' ')[1]\n",
      "# print lines[1]\n",
      "\n",
      "wk = datetime.strptime(dt, '%Y-%m-%d').date().isocalendar()[1]\n",
      "lat = x[0]\n",
      "lng = \n",
      "hr = datetime.strptime(dtt, '%H:%M:%S').time().hour\n",
      "print 'Week: ' + str(wk)\n",
      "print 'Date: ' + str(dt)\n",
      "print 'Time: ' + str(hr)\n",
      "\n",
      "print float(x[0])\n",
      "print float(x[1])"
     ],
     "language": "python",
     "metadata": {},
     "outputs": [
      {
       "output_type": "stream",
       "stream": "stdout",
       "text": [
        "['40.640498', '-73.978939', '2014-10-31 04:00:01', '468', '325.451653058215', '0', 'IN_PROGRESS', 'MTA NYCT_B67', 'MTA NYCT_JG_D4-Weekday-SDon-145600_B68_135', '20.996880842467363', 'MTA_306549\\n']\n",
        "Bus ID: 468\n",
        "Week: 44\n",
        "Date: 2014-10-31\n",
        "Time: 4\n",
        "40.640498\n",
        "-73.978939\n"
       ]
      }
     ],
     "prompt_number": 10
    },
    {
     "cell_type": "code",
     "collapsed": false,
     "input": [],
     "language": "python",
     "metadata": {},
     "outputs": [
      {
       "output_type": "stream",
       "stream": "stdout",
       "text": [
        "17\n"
       ]
      }
     ],
     "prompt_number": 11
    },
    {
     "cell_type": "code",
     "collapsed": false,
     "input": [
      "bus_count = {}\n",
      "for line in lines:\n",
      "    bus_id = line.split('\\t')[3]\n",
      "    \n",
      "    # make sure the bus_id being looked at is a valid number \n",
      "    try:    \n",
      "        bus_id = int(bus_id)\n",
      "    except ValueError:\n",
      "        continue\n",
      "    \n",
      "    # increase count in dictionary or add\n",
      "    try:\n",
      "        bus_count[bus_id] += 1\n",
      "    except:\n",
      "        bus_count[bus_id] = 1"
     ],
     "language": "python",
     "metadata": {},
     "outputs": [],
     "prompt_number": 53
    },
    {
     "cell_type": "code",
     "collapsed": false,
     "input": [
      "bus_count = {}\n",
      "for line in lines:\n",
      "    bus_id = line.split('\\t')[3]\n",
      "    \n",
      "    # make sure the bus_id being looked at is a valid number \n",
      "    try:    \n",
      "        bus_id = int(bus_id)\n",
      "    except ValueError:\n",
      "        continue\n",
      "    \n",
      "    # increase count in dictionary or add\n",
      "#     print str(bus_id) + '\\t' + str(1)"
     ],
     "language": "python",
     "metadata": {},
     "outputs": [
      {
       "ename": "NameError",
       "evalue": "name 'lines' is not defined",
       "output_type": "pyerr",
       "traceback": [
        "\u001b[0;31m---------------------------------------------------------------------------\u001b[0m\n\u001b[0;31mNameError\u001b[0m                                 Traceback (most recent call last)",
        "\u001b[0;32m<ipython-input-1-afb9c617a28a>\u001b[0m in \u001b[0;36m<module>\u001b[0;34m()\u001b[0m\n\u001b[1;32m      1\u001b[0m \u001b[0mbus_count\u001b[0m \u001b[0;34m=\u001b[0m \u001b[0;34m{\u001b[0m\u001b[0;34m}\u001b[0m\u001b[0;34m\u001b[0m\u001b[0m\n\u001b[0;32m----> 2\u001b[0;31m \u001b[0;32mfor\u001b[0m \u001b[0mline\u001b[0m \u001b[0;32min\u001b[0m \u001b[0mlines\u001b[0m\u001b[0;34m:\u001b[0m\u001b[0;34m\u001b[0m\u001b[0m\n\u001b[0m\u001b[1;32m      3\u001b[0m     \u001b[0mbus_id\u001b[0m \u001b[0;34m=\u001b[0m \u001b[0mline\u001b[0m\u001b[0;34m.\u001b[0m\u001b[0msplit\u001b[0m\u001b[0;34m(\u001b[0m\u001b[0;34m'\\t'\u001b[0m\u001b[0;34m)\u001b[0m\u001b[0;34m[\u001b[0m\u001b[0;36m3\u001b[0m\u001b[0;34m]\u001b[0m\u001b[0;34m\u001b[0m\u001b[0m\n\u001b[1;32m      4\u001b[0m \u001b[0;34m\u001b[0m\u001b[0m\n\u001b[1;32m      5\u001b[0m     \u001b[0;31m# make sure the bus_id being looked at is a valid number\u001b[0m\u001b[0;34m\u001b[0m\u001b[0;34m\u001b[0m\u001b[0m\n",
        "\u001b[0;31mNameError\u001b[0m: name 'lines' is not defined"
       ]
      }
     ],
     "prompt_number": 1
    },
    {
     "cell_type": "code",
     "collapsed": false,
     "input": [
      "x = \"6801\\t1\"\n",
      "print x"
     ],
     "language": "python",
     "metadata": {},
     "outputs": [
      {
       "output_type": "stream",
       "stream": "stdout",
       "text": [
        "6801\t1\n"
       ]
      }
     ],
     "prompt_number": 48
    },
    {
     "cell_type": "code",
     "collapsed": false,
     "input": [
      "x.rstrip().split('\\t',1)"
     ],
     "language": "python",
     "metadata": {},
     "outputs": [
      {
       "metadata": {},
       "output_type": "pyout",
       "prompt_number": 49,
       "text": [
        "['6801', '1']"
       ]
      }
     ],
     "prompt_number": 49
    },
    {
     "cell_type": "code",
     "collapsed": false,
     "input": [
      "print len(bus_count)"
     ],
     "language": "python",
     "metadata": {},
     "outputs": [
      {
       "output_type": "stream",
       "stream": "stdout",
       "text": [
        "868\n"
       ]
      }
     ],
     "prompt_number": 54
    },
    {
     "cell_type": "code",
     "collapsed": false,
     "input": [
      "import pandas as pd\n",
      "from datetime import datetime\n",
      "\n",
      "# dateparse = lambda x: pd.datetime.strptime(x, '%Y-%m-%d')\n",
      "df = pd.read_csv('AugSepOct_BusCount.csv') #, parse_dates=['datetime'],date_parser=dateparse)\n",
      "\n",
      "# df2 = pd.read_csv('AugSepOct_BusCount_Weekly.csv')\n",
      "\n",
      "for i in xrange(0,len(df['datetime'])):\n",
      "    df['datetime'][i] = datetime.strptime(df['datetime'][i],'%Y-%m-%d').date()"
     ],
     "language": "python",
     "metadata": {},
     "outputs": [],
     "prompt_number": 4
    },
    {
     "cell_type": "code",
     "collapsed": false,
     "input": [
      "import numpy as np\n",
      "import matplotlib.pyplot as plt\n",
      "import matplotlib as mpl\n",
      "%matplotlib inline"
     ],
     "language": "python",
     "metadata": {},
     "outputs": [],
     "prompt_number": 5
    },
    {
     "cell_type": "code",
     "collapsed": false,
     "input": [
      "df.plot(ylim=(1000,6000))"
     ],
     "language": "python",
     "metadata": {},
     "outputs": [
      {
       "metadata": {},
       "output_type": "pyout",
       "prompt_number": 6,
       "text": [
        "<matplotlib.axes.AxesSubplot at 0x10761da10>"
       ]
      },
      {
       "metadata": {},
       "output_type": "display_data",
       "png": "[encoded data removed]",
       "text": [
        "<matplotlib.figure.Figure at 0x10761d4d0>"
       ]
      }
     ],
     "prompt_number": 6
    },
    {
     "cell_type": "code",
     "collapsed": false,
     "input": [
      "plt.plot(df['datetime'],df['BusCount'])\n",
      "plt.ylim(1000,6000)\n",
      "plt.grid(True)\n",
      "plt.xticks(rotation=45)\n",
      "plt.title('Unique MTA Bus Count by Day')\n",
      "plt.ylabel('Bus Count')\n",
      "plt.xlabel('Date')"
     ],
     "language": "python",
     "metadata": {},
     "outputs": [
      {
       "metadata": {},
       "output_type": "pyout",
       "prompt_number": 7,
       "text": [
        "<matplotlib.text.Text at 0x10761d9d0>"
       ]
      },
      {
       "metadata": {},
       "output_type": "display_data",
       "png": "[encoded data removed]",
       "text": [
        "<matplotlib.figure.Figure at 0x1078959d0>"
       ]
      }
     ],
     "prompt_number": 7
    },
    {
     "cell_type": "code",
     "collapsed": false,
     "input": [
      "plt.plot(df2['Week'],df2['BusCount'])\n",
      "plt.ylim(4000,6000)\n",
      "plt.xlim(30,45)\n",
      "plt.grid(True)\n",
      "plt.title('Unique MTA Bus Count by Week')\n",
      "plt.ylabel('Bus Count')\n",
      "plt.xlabel('Week')"
     ],
     "language": "python",
     "metadata": {},
     "outputs": [
      {
       "metadata": {},
       "output_type": "pyout",
       "prompt_number": 34,
       "text": [
        "<matplotlib.text.Text at 0x10bcec6d0>"
       ]
      },
      {
       "metadata": {},
       "output_type": "display_data",
       "png": "[encoded data removed]",
       "text": [
        "<matplotlib.figure.Figure at 0x10be24d90>"
       ]
      }
     ],
     "prompt_number": 34
    },
    {
     "cell_type": "code",
     "collapsed": false,
     "input": [],
     "language": "python",
     "metadata": {},
     "outputs": [],
     "prompt_number": 21
    },
    {
     "cell_type": "code",
     "collapsed": false,
     "input": [],
     "language": "python",
     "metadata": {},
     "outputs": []
    }
   ],
   "metadata": {}
  }
 ]
}